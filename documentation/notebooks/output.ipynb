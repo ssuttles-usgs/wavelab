{
 "cells": [
  {
   "cell_type": "code",
   "execution_count": 3,
   "metadata": {
    "tags": [
     "remove_cell"
    ]
   },
   "outputs": [
    {
     "data": {
      "text/html": [
       "\n",
       "        \n",
       "        <script>\n",
       "            function code_toggle_6977095196663891306() {\n",
       "                $('div.cell.code_cell.rendered.selected').find('div.input').toggle();\n",
       "            }\n",
       "\n",
       "            \n",
       "        </script>\n",
       "\n",
       "        <a href=\"javascript:code_toggle_6977095196663891306()\">Toggle show/hide</a>\n",
       "    "
      ],
      "text/plain": [
       "<IPython.core.display.HTML object>"
      ]
     },
     "execution_count": 3,
     "metadata": {},
     "output_type": "execute_result"
    }
   ],
   "source": [
    "from IPython.display import HTML \n",
    "import random\n",
    "\n",
    "def hide_toggle(for_next=False, style=''):\n",
    "    this_cell = \"\"\"$('div.cell.code_cell.rendered.selected')\"\"\"\n",
    "    next_cell = this_cell + '.next()'\n",
    "\n",
    "    toggle_text = 'Toggle show/hide'  # text shown on toggle link\n",
    "    target_cell = this_cell  # target cell to control with toggle\n",
    "    js_hide_current = ''  # bit of JS to permanently hide code in current cell (only when toggling next cell)\n",
    "\n",
    "    if for_next:\n",
    "        target_cell = next_cell\n",
    "        toggle_text += ' next cell'\n",
    "        js_hide_current = this_cell + '.find(\"div.input\").hide();'\n",
    "\n",
    "    js_f_name = 'code_toggle_{}'.format(str(random.randint(1,2**64)))\n",
    "\n",
    "    html = \"\"\"\n",
    "        {style}\n",
    "        <script>\n",
    "            function {f_name}() {{\n",
    "                {cell_selector}.find('div.input').toggle();\n",
    "            }}\n",
    "\n",
    "            {js_hide_current}\n",
    "        </script>\n",
    "\n",
    "        <a href=\"javascript:{f_name}()\">{toggle_text}</a>\n",
    "    \"\"\".format(\n",
    "        style=style,\n",
    "        f_name=js_f_name,\n",
    "        cell_selector=target_cell,\n",
    "        js_hide_current=js_hide_current, \n",
    "        toggle_text=toggle_text\n",
    "    )\n",
    "\n",
    "    return HTML(html)\n",
    "\n",
    "hide_toggle()"
   ]
  },
  {
   "cell_type": "code",
   "execution_count": 4,
   "metadata": {
    "tags": [
     "remove_input",
     "remove_markdown"
    ]
   },
   "outputs": [
    {
     "data": {
      "text/html": [
       "<style>\n",
       "\n",
       ".cust-table th {\n",
       "text-align: left;\n",
       "}\n",
       "\n",
       ".cust-table td {\n",
       "text-align: left;\n",
       "}\n",
       "\n",
       ".cust-table img {\n",
       "border: 1px solid black;\n",
       "}\n",
       "\n",
       "</style>\n"
      ],
      "text/plain": [
       "<IPython.core.display.HTML object>"
      ]
     },
     "metadata": {},
     "output_type": "display_data"
    }
   ],
   "source": [
    "%%html\n",
    "<style>\n",
    "\n",
    ".cust-table th {\n",
    "text-align: left;\n",
    "}\n",
    "\n",
    ".cust-table td {\n",
    "text-align: left;\n",
    "}\n",
    "\n",
    ".cust-table img {\n",
    "border: 1px solid black;\n",
    "}\n",
    "\n",
    "</style>"
   ]
  },
  {
   "cell_type": "markdown",
   "metadata": {},
   "source": [
    "<img src=\"./images/usgs.png\" style=\" padding-top: 26px; float: left\"/>\n",
    "<img src=\"./images/WaveLabLogo.png\" style=\"float: left\"/>"
   ]
  },
  {
   "cell_type": "markdown",
   "metadata": {},
   "source": [
    "## Storm GUI Output"
   ]
  },
  {
   "cell_type": "markdown",
   "metadata": {},
   "source": [
    "The following is breakdown of output files that can be output from Storm GUI after processing. They are grouped by file type."
   ]
  },
  {
   "cell_type": "markdown",
   "metadata": {},
   "source": [
    "### netCDF Files"
   ]
  },
  {
   "cell_type": "markdown",
   "metadata": {},
   "source": [
    "<table class=\"cust-table\">\n",
    "    <tr><th style=\"width: 150px\">Output File</th><th>Output Suffix</th><th>Description</th></tr>\n",
    "    <tr><td>Storm-Tide Water Level</td><td>*_stormtide.nc</td>\n",
    "        <td>This file contains three time series: 1)' \n",
    "            air pressure 2) sea pressure 3) sea surface elevation. The third was derived\n",
    "            from a time series of high frequency sea pressure measurements\n",
    "            adjusted using the former and then lowpass filtered to remove\n",
    "            waves of period 1 second or less.</td></tr>\n",
    "    <tr><td>Storm-Tide with Unfiltered Water Level</td><td>*_stormtide_unfiltered.nc</td>\n",
    "        <td>This file contains four time series: 1) air pressure 2) sea pressure 3) sea surface elevation\n",
    "                                4) unfiltered sea surface elevation. The third was derived\n",
    "                                from a time series of high frequency sea pressure measurements\n",
    "                                adjusted using the former and then lowpass filtered to remove\n",
    "                                waves of period 1 second or less. The fourth is also sea surface elevation\n",
    "                                with no such filter.</td></tr>\n",
    "     <tr><td>Wave Statistics</td><td>*_wave_statistics.nc</td>\n",
    "        <td>This file contains time, frequency, power spectral density, and wave statistics.\n",
    "                                For both wave heights and the power spectral density, the 90% confidence intervals\n",
    "                                were derived.</td></tr>\n",
    "</table>"
   ]
  },
  {
   "cell_type": "markdown",
   "metadata": {},
   "source": [
    "### Visualizations"
   ]
  },
  {
   "cell_type": "markdown",
   "metadata": {},
   "source": [
    "<table class=\"cust-table\">\n",
    "    <tr><th style=\"width: 150px\">Output File</th><th>Output Suffix</th><th>Description</th><th>Image</th></tr>\n",
    "    <tr><td>Atmospheric Pressure</td><td>*_barometric_pressure.jpg</td>\n",
    "        <td>Barometric Pressure Visualization</td><td><img src=\"images/nyric_barometric_pressure.jpg\" /></tr>\n",
    "    <tr><td>Storm-Tide Water Level</td><td>*_stormtide.jpg</td>\n",
    "        <td>Storm-Tide Water Level Visualization</td><td><img src=\"images/nyric_stormtide.jpg\" /></tr>\n",
    "    <tr><td>(Same as above)</td><td>*_reference_stormtide.jpg</td>\n",
    "        <td>Storm-Tide Water Level Visualization with Reference Height (if reference height provided)</td><td><img src=\"images/nyric_reference_stormtide.jpg\" /></tr>\n",
    "     <tr><td>Storm-Tide with Unfiltered Water Level</td><td>*_stormtide_unfiltered.jpg</td>\n",
    "        <td>Storm-Tide and Unfiltered Water Level Visualization</td><td><img src=\"images/nyric_stormtide_unfiltered.jpg\" /></tr>\n",
    "    <tr><td>(Same as above)</td><td>*_reference_stormtide_unfiltered.jpg</td>\n",
    "        <td>Storm-Tide and Unfiltered Water Level Visualization with Reference Height (if reference height provided)</td><td><img src=\"images/nyric_reference_stormtide_unfiltered.jpg\" /></tr>\n",
    "    <tr><td>Average Z Cross</td><td>*_avg_z_cross.jpg</td>\n",
    "        <td>Average Zero Up-crossing Period Visualization</td><td><img src=\"images/nyric_stats_avg_z_cross.jpg\" /></tr>\n",
    "     <tr><td>H1/3</td><td>*_h13.jpg</td>\n",
    "        <td>Significant Wave Height Visualization</td><td><img src=\"images/nyric_stats_h13.jpg\" /></tr>\n",
    "    <tr><td>PSD</td><td>*_psd_contours.jpg</td>\n",
    "        <td>Contours of Power Spectral Density Visualization</td><td><img src=\"images/nyric_stats_psd_contours.jpg\" /></tr>\n",
    "    <tr><td>Peak Wave</td><td>*_peak_wave.jpg</td>\n",
    "        <td>Peak Wave Period Visualization</td><td><img src=\"images/nyric_stats_peak_wave.jpg\" /></tr>\n",
    "</table>"
   ]
  },
  {
   "cell_type": "markdown",
   "metadata": {},
   "source": [
    "### CSV Files"
   ]
  },
  {
   "cell_type": "markdown",
   "metadata": {},
   "source": [
    "<table class=\"cust-table\" style=\"float:left; width: 100%\">\n",
    "    <tr><th style=\"width: 150px\">Output File</th><th style=\"width: 150px\">Output Suffix</th><th>Description</th></tr>\n",
    "    <tr><td>Atmospheric Pressure</td><td>*_barometric_pressure.csv</td>\n",
    "        <td>Contains barometric pressure data.</td></tr>\n",
    "    <tr><td>PSD (Power Spectral Density)</td><td>*_psd.csv</td>\n",
    "        <td>Contains power spectral density of the time series.</td></tr>\n",
    "     <tr><td>Stats (Wave Statistics)</td><td>*_stats.csv</td>\n",
    "        <td>Contains wave statistics of the time series.</td></tr>\n",
    "     <tr><td>Storm-Tide Water Level</td><td>*_stormtide.csv</td>\n",
    "        <td>Contains low-pass filtered water level of the time series.</td></tr>\n",
    "     <tr><td>Storm-Tide with Unfiltered Water Level</td><td>*_stormtide_unfiltered.csv</td>\n",
    "        <td>Contains low-pass filtered water level and unfiltered water level of the time series.</td></tr>\n",
    "</table>"
   ]
  }
 ],
 "metadata": {
  "celltoolbar": "Tags",
  "kernelspec": {
   "display_name": "Python 3",
   "language": "python",
   "name": "python3"
  },
  "language_info": {
   "codemirror_mode": {
    "name": "ipython",
    "version": 3
   },
   "file_extension": ".py",
   "mimetype": "text/x-python",
   "name": "python",
   "nbconvert_exporter": "python",
   "pygments_lexer": "ipython3",
   "version": "3.7.5"
  }
 },
 "nbformat": 4,
 "nbformat_minor": 4
}
