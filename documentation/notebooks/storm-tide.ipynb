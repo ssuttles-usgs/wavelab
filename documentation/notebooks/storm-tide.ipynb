{
 "cells": [
  {
   "cell_type": "code",
   "execution_count": 14,
   "metadata": {
    "tags": [
     "remove_cell"
    ]
   },
   "outputs": [
    {
     "data": {
      "text/html": [
       "\n",
       "        <script>\n",
       "            function code_toggle_14048648784736908626() {\n",
       "                $('div.cell.code_cell.rendered.selected').find('div.input').toggle();\n",
       "            }\n",
       "\n",
       "            \n",
       "        </script>\n",
       "\n",
       "        <a href=\"javascript:code_toggle_14048648784736908626()\">Toggle show/hide</a>\n",
       "    "
      ],
      "text/plain": [
       "<IPython.core.display.HTML object>"
      ]
     },
     "execution_count": 14,
     "metadata": {},
     "output_type": "execute_result"
    }
   ],
   "source": [
    "from IPython.display import HTML\n",
    "import random\n",
    "\n",
    "def hide_toggle(for_next=False):\n",
    "    this_cell = \"\"\"$('div.cell.code_cell.rendered.selected')\"\"\"\n",
    "    next_cell = this_cell + '.next()'\n",
    "\n",
    "    toggle_text = 'Toggle show/hide'  # text shown on toggle link\n",
    "    target_cell = this_cell  # target cell to control with toggle\n",
    "    js_hide_current = ''  # bit of JS to permanently hide code in current cell (only when toggling next cell)\n",
    "\n",
    "    if for_next:\n",
    "        target_cell = next_cell\n",
    "        toggle_text += ' next cell'\n",
    "        js_hide_current = this_cell + '.find(\"div.input\").hide();'\n",
    "\n",
    "    js_f_name = 'code_toggle_{}'.format(str(random.randint(1,2**64)))\n",
    "\n",
    "    html = \"\"\"\n",
    "        <script>\n",
    "            function {f_name}() {{\n",
    "                {cell_selector}.find('div.input').toggle();\n",
    "            }}\n",
    "\n",
    "            {js_hide_current}\n",
    "        </script>\n",
    "\n",
    "        <a href=\"javascript:{f_name}()\">{toggle_text}</a>\n",
    "    \"\"\".format(\n",
    "        f_name=js_f_name,\n",
    "        cell_selector=target_cell,\n",
    "        js_hide_current=js_hide_current, \n",
    "        toggle_text=toggle_text\n",
    "    )\n",
    "\n",
    "    return HTML(html)\n",
    "\n",
    "hide_toggle()"
   ]
  },
  {
   "cell_type": "code",
   "execution_count": 15,
   "metadata": {
    "tags": [
     "remove_input",
     "remove_markdown"
    ]
   },
   "outputs": [
    {
     "data": {
      "text/html": [
       "<style>\n",
       ".cust-table{\n",
       "    display: block\n",
       "}\n",
       "\n",
       ".cust-table th {\n",
       "text-align: left;\n",
       "}\n",
       "\n",
       ".cust-table td {\n",
       "text-align: left;\n",
       "}\n",
       "\n",
       ".cust-table img {\n",
       "border: 1px solid black;\n",
       "}\n",
       "</style>\n"
      ],
      "text/plain": [
       "<IPython.core.display.HTML object>"
      ]
     },
     "metadata": {},
     "output_type": "display_data"
    }
   ],
   "source": [
    "%%html\n",
    "<style>\n",
    ".cust-table{\n",
    "    display: block\n",
    "}\n",
    "\n",
    ".cust-table th {\n",
    "text-align: left;\n",
    "}\n",
    "\n",
    ".cust-table td {\n",
    "text-align: left;\n",
    "}\n",
    "\n",
    ".cust-table img {\n",
    "border: 1px solid black;\n",
    "}\n",
    "</style>\n"
   ]
  },
  {
   "attachments": {},
   "cell_type": "markdown",
   "metadata": {},
   "source": [
    "<img src=\"./images/usgs.png\" style=\"padding-top: 26px; float: left\"/>\n",
    "<img src=\"./images/WaveLabLogo.png\" style=\"float: left\"/>"
   ]
  },
  {
   "attachments": {},
   "cell_type": "markdown",
   "metadata": {},
   "source": [
    "# Storm-Tide Water Level"
   ]
  },
  {
   "attachments": {},
   "cell_type": "markdown",
   "metadata": {},
   "source": [
    "To begin, we take a time series of sea pressure corrected by barometric pressure."
   ]
  },
  {
   "cell_type": "code",
   "execution_count": 16,
   "metadata": {
    "tags": [
     "remove_cell"
    ]
   },
   "outputs": [],
   "source": [
    "import matplotlib\n",
    "from matplotlib import pyplot as plt\n",
    "import numpy as np\n",
    "\n",
    "def plot_graph(x_data, y_data, title, x_label, y_label, size, name):\n",
    "    \n",
    "    _, ax = plt.subplots(figsize=size)\n",
    "    ax.plot(x_data,y_data)\n",
    "    ax.set_title(title)\n",
    "    ax.set_xlabel(x_label)\n",
    "    ax.set_ylabel(y_label)\n",
    "    file_name = './images/%s.png' % name\n",
    "    plt.savefig(file_name)\n",
    "    return file_name\n",
    "    "
   ]
  },
  {
   "cell_type": "code",
   "execution_count": 17,
   "metadata": {},
   "outputs": [],
   "source": [
    "from datetime import datetime\n",
    "from wavelab.utilities.nc import (get_pressure, \n",
    "                                  get_air_pressure, \n",
    "                                  get_time, \n",
    "                                  get_datetimes)\n",
    "\n",
    "sea_file = '../data/NCCAR00007_1511451_sea.csv.nc'\n",
    "baro_file = '../data/NCCAR12248_9983816_air.csv.nc'\n",
    "\n",
    "# Load all of the data\n",
    "sea_pressure_data = get_pressure(sea_file)\n",
    "sea_milli = get_time(sea_file)\n",
    "sea_date_times = get_datetimes(sea_file)\n",
    "\n",
    "baro_pressure_data = get_air_pressure(baro_file)\n",
    "baro_milli = get_time(baro_file)\n",
    "baro_date_times = get_datetimes(baro_file)\n",
    "\n",
    "# Interpolate the air pressure\n",
    "baro_interp = np.interp(sea_milli, baro_milli, baro_pressure_data)\n",
    "\n",
    "# Slice the data accordingly\n",
    "itemindex = np.where(~np.isnan(baro_interp))\n",
    "begin = itemindex[0][0]\n",
    "end = itemindex[0][len(itemindex[0]) - 1]\n",
    "corrected_pressure = sea_pressure_data[begin:end] - baro_interp[begin:end]\n",
    "corrected_date_times = sea_date_times[begin:end]\n"
   ]
  },
  {
   "cell_type": "code",
   "execution_count": 18,
   "metadata": {
    "tags": [
     "remove_cell"
    ]
   },
   "outputs": [],
   "source": [
    "cor_press = plot_graph(corrected_date_times, \n",
    "           corrected_pressure, \n",
    "           'Corrected Sea Pressure', \n",
    "           'Time in UTC', \n",
    "           'Pressure in Decibars', \n",
    "           (10,5),\n",
    "           'corrected_pressure')"
   ]
  },
  {
   "cell_type": "code",
   "execution_count": 19,
   "metadata": {
    "tags": [
     "remove_input"
    ]
   },
   "outputs": [
    {
     "data": {
      "text/html": [
       "<img src='./images/corrected_pressure.png' />"
      ],
      "text/plain": [
       "<IPython.core.display.HTML object>"
      ]
     },
     "execution_count": 19,
     "metadata": {},
     "output_type": "execute_result"
    }
   ],
   "source": [
    "from IPython.display import HTML\n",
    "\n",
    "HTML(\"<img src='\" + cor_press + \"' />\")"
   ]
  },
  {
   "attachments": {},
   "cell_type": "markdown",
   "metadata": {},
   "source": [
    "### Calculating Water Level"
   ]
  },
  {
   "attachments": {},
   "cell_type": "markdown",
   "metadata": {},
   "source": [
    "For assessing either storm surge or Storm-Tide, the choices are either Linear Wave Theory or the Hydrostatic method.   This software was developed in the context of our Storm-Tide monitoring program. The instruments that are deployed are either pre-bracketed, on the side of piers for example, or installed ad-hoc to systematically capture the most useful data possible.  The sites are typically are not very deep in the associated water-bodies, therefore the most accurate method to use would be the Hydrostatic method.  The equation is straight-forward as follows:"
   ]
  },
  {
   "attachments": {},
   "cell_type": "markdown",
   "metadata": {},
   "source": [
    "$\\hphantom{`}\\Huge \\frac{\\psi}{\\rho * \\mu}\\hphantom{`}$ <br /><br />\n",
    "Where: <br />\n",
    "$\\hphantom{`}\\psi\\hphantom{`}$ = sea pressure in decibars (dbars)<br />\n",
    "$\\hphantom{`}\\rho\\hphantom{`}$ = water density in parts per a million (ppm)<br />\n",
    "$\\hphantom{`}\\mu\\hphantom{`}$ = gravity in meters per a second squared ($\\hphantom{`}ms^{2}\\hphantom{`}$)\n",
    "\n",
    "There are three values for density that are relevant to our process:\n",
    "<ul>\n",
    "    <li>Salt Water: 1027 ppm</li>\n",
    "    <li>Brackish Water: 1015 ppm</li>\n",
    "    <li>Fresh Water: 1000 ppm</li>\n",
    "</ul>\n",
    "<br />\n",
    "*In this particular example the site is comprised of salt water."
   ]
  },
  {
   "attachments": {},
   "cell_type": "markdown",
   "metadata": {},
   "source": [
    "Then calculate the water level for all frequencies (As you will see there is nearly a one to one relationship between decibar and meter units):"
   ]
  },
  {
   "cell_type": "code",
   "execution_count": 20,
   "metadata": {},
   "outputs": [],
   "source": [
    "from wavelab.processing.pressure_to_depth import hydrostatic_method\n",
    "\n",
    "unfiltered_water_level = hydrostatic_method(corrected_pressure, density=\"salt\")"
   ]
  },
  {
   "cell_type": "code",
   "execution_count": 21,
   "metadata": {
    "tags": [
     "remove_cell"
    ]
   },
   "outputs": [],
   "source": [
    "unfilt_wl = plot_graph(corrected_date_times, \n",
    "           unfiltered_water_level, \n",
    "           'Unfiltered Water Level', \n",
    "           'Time in UTC', \n",
    "           'Water Level in Meters', \n",
    "           (10,5),\n",
    "           'unfiltered_wl')"
   ]
  },
  {
   "cell_type": "code",
   "execution_count": 22,
   "metadata": {
    "tags": [
     "remove_input"
    ]
   },
   "outputs": [
    {
     "data": {
      "text/html": [
       "<img src='./images/unfiltered_wl.png' />"
      ],
      "text/plain": [
       "<IPython.core.display.HTML object>"
      ]
     },
     "execution_count": 22,
     "metadata": {},
     "output_type": "execute_result"
    }
   ],
   "source": [
    "from IPython.display import HTML\n",
    "\n",
    "HTML(\"<img src='\" + unfilt_wl + \"' />\")"
   ]
  },
  {
   "attachments": {},
   "cell_type": "markdown",
   "metadata": {},
   "source": [
    "### Choosing a Filter"
   ]
  },
  {
   "attachments": {},
   "cell_type": "markdown",
   "metadata": {},
   "source": [
    "\n",
    "USGS defines Storm-Tide as low-pass filtered signal including frequencies of both tide and storm surge. There are many such filters to accomplish this low-pass, including USGS PL33 and Godin, which use a kernel to attenuate the high frequencies.\n",
    "\n",
    "WaveLab uses a **Butterworth filter** (low-pass filter) to attenuate high frequencies in order to remove the components of wave setup and runup to estimate the storm tide at a site. It is desirable because of the minimized edge effects and steep decay in attenuation. \n",
    "\n",
    "**Butterworth Filter Specifications**\n",
    "\n",
    "* Order: The order parameter increases the steepness of the decay, affecting less signal. However, edge effects can occur, and best judgement balancing the order must be used. The best practice is to use an even number for the order of the filter because mathematically it is easier to resolve in frequency space. After assessing performance of many orders, a 4th order filter was chosen.\n",
    "* Cutoff Frequency: A six-minute cutoff is used.\n",
    "* The signal was filtered twice to preserve the phase angles (original position) of the water level time series.\n",
    "* Although adequate for data with a wide range of sampling frequencies, this filter was optimized for 4hz data (adjustments were made to prepare for edge cases of 1 minute or more sampled data).\n",
    "* WaveLab automatically adjusts for the measurement sampling rate of the provided files."
   ]
  },
  {
   "attachments": {},
   "cell_type": "markdown",
   "metadata": {},
   "source": [
    "### Calculating Storm-Tide"
   ]
  },
  {
   "cell_type": "code",
   "execution_count": 23,
   "metadata": {},
   "outputs": [],
   "source": [
    "from wavelab.processing.pressure_to_depth import butterworth_filter\n",
    "\n",
    "storm_tide_water_level = butterworth_filter(unfiltered_water_level, 4) #frequency in hz"
   ]
  },
  {
   "attachments": {},
   "cell_type": "markdown",
   "metadata": {},
   "source": [
    "This is the longer hand version of the above:"
   ]
  },
  {
   "cell_type": "code",
   "execution_count": 24,
   "metadata": {},
   "outputs": [],
   "source": [
    "from scipy import signal\n",
    "\n",
    "# Six-minute cutoff divided by the Nyquist Frequency of 4hz\n",
    "lowcut = 0.002777777777775 / (.5 * 4)\n",
    "\n",
    "# 4th order butterworth filter\n",
    "b, a = signal.butter(4, [lowcut], btype='lowpass')\n",
    "\n",
    "# Double filter to preserve phase angles\n",
    "storm_tide_water_level = signal.filtfilt(b, a, unfiltered_water_level)"
   ]
  },
  {
   "cell_type": "code",
   "execution_count": 25,
   "metadata": {
    "tags": [
     "remove_cell"
    ]
   },
   "outputs": [],
   "source": [
    "st_wl = plot_graph(corrected_date_times, \n",
    "           storm_tide_water_level, \n",
    "           'Storm-Tide Water Level', \n",
    "           'Time In UTC', \n",
    "           'Water Level in Meters', \n",
    "           (10,5),\n",
    "            'st_wl')"
   ]
  },
  {
   "cell_type": "code",
   "execution_count": 26,
   "metadata": {
    "tags": [
     "remove_input"
    ]
   },
   "outputs": [
    {
     "data": {
      "text/html": [
       "<img src='./images/st_wl.png' />"
      ],
      "text/plain": [
       "<IPython.core.display.HTML object>"
      ]
     },
     "execution_count": 26,
     "metadata": {},
     "output_type": "execute_result"
    }
   ],
   "source": [
    "from IPython.display import HTML\n",
    "\n",
    "HTML(\"<img src='\" + st_wl + \"' />\")"
   ]
  },
  {
   "attachments": {},
   "cell_type": "markdown",
   "metadata": {},
   "source": [
    "## References (filtering)\n",
    "\n",
    "Emery, William J. and Richard E. Thomson (2014), Data Analysis Methods in Physical Oceanography, 617-619.\n",
    "\n",
    "Hamid, S. and Alan V. Oppenheim and Alan S. Willsky (1997), Signals and Systems.\n",
    "\n",
    "scipy.signal.butter (2014), https://docs.scipy.org/doc/scipy-0.14.0/reference/generated/scipy.signal.butter.html\n",
    "\n",
    "scipy.signal.buttord (2014), https://docs.scipy.org/doc/scipy-0.14.0/reference/generated/scipy.signal.buttord.html#scipy.signal.buttord\n",
    "\n",
    "Oliphant, Travis, scipy.signal.filtfilt (2002), https://docs.scipy.org/doc/scipy-0.18.1/reference/generated/scipy.signal.filtfilt.html"
   ]
  }
 ],
 "metadata": {
  "celltoolbar": "Tags",
  "kernelspec": {
   "display_name": "Python 3 (ipykernel)",
   "language": "python",
   "name": "python3"
  },
  "language_info": {
   "codemirror_mode": {
    "name": "ipython",
    "version": 3
   },
   "file_extension": ".py",
   "mimetype": "text/x-python",
   "name": "python",
   "nbconvert_exporter": "python",
   "pygments_lexer": "ipython3",
   "version": "3.7.11"
  }
 },
 "nbformat": 4,
 "nbformat_minor": 4
}
