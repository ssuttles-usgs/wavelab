{
 "cells": [
  {
   "cell_type": "code",
   "execution_count": 3,
   "metadata": {
    "tags": [
     "remove_cell"
    ]
   },
   "outputs": [
    {
     "data": {
      "text/html": [
       "\n",
       "        \n",
       "        <script>\n",
       "            function code_toggle_17610033063237148775() {\n",
       "                $('div.cell.code_cell.rendered.selected').find('div.input').toggle();\n",
       "            }\n",
       "\n",
       "            \n",
       "        </script>\n",
       "\n",
       "        <a href=\"javascript:code_toggle_17610033063237148775()\">Toggle show/hide</a>\n",
       "    "
      ],
      "text/plain": [
       "<IPython.core.display.HTML object>"
      ]
     },
     "execution_count": 3,
     "metadata": {},
     "output_type": "execute_result"
    }
   ],
   "source": [
    "from IPython.display import HTML \n",
    "import random\n",
    "\n",
    "def hide_toggle(for_next=False, style=''):\n",
    "    this_cell = \"\"\"$('div.cell.code_cell.rendered.selected')\"\"\"\n",
    "    next_cell = this_cell + '.next()'\n",
    "\n",
    "    toggle_text = 'Toggle show/hide'  # text shown on toggle link\n",
    "    target_cell = this_cell  # target cell to control with toggle\n",
    "    js_hide_current = ''  # bit of JS to permanently hide code in current cell (only when toggling next cell)\n",
    "\n",
    "    if for_next:\n",
    "        target_cell = next_cell\n",
    "        toggle_text += ' next cell'\n",
    "        js_hide_current = this_cell + '.find(\"div.input\").hide();'\n",
    "\n",
    "    js_f_name = 'code_toggle_{}'.format(str(random.randint(1,2**64)))\n",
    "\n",
    "    html = \"\"\"\n",
    "        {style}\n",
    "        <script>\n",
    "            function {f_name}() {{\n",
    "                {cell_selector}.find('div.input').toggle();\n",
    "            }}\n",
    "\n",
    "            {js_hide_current}\n",
    "        </script>\n",
    "\n",
    "        <a href=\"javascript:{f_name}()\">{toggle_text}</a>\n",
    "    \"\"\".format(\n",
    "        style=style,\n",
    "        f_name=js_f_name,\n",
    "        cell_selector=target_cell,\n",
    "        js_hide_current=js_hide_current, \n",
    "        toggle_text=toggle_text\n",
    "    )\n",
    "\n",
    "    return HTML(html)\n",
    "\n",
    "hide_toggle()"
   ]
  },
  {
   "cell_type": "code",
   "execution_count": 4,
   "metadata": {
    "tags": [
     "remove_input",
     "remove_markdown"
    ]
   },
   "outputs": [
    {
     "data": {
      "text/html": [
       "<style>\n",
       "\n",
       ".custom-list {\n",
       "    margin-left: 285px;\n",
       "    font-size: 14pt;\n",
       "}\n",
       "\n",
       ".custom-list li {\n",
       "    margin: 50px;\n",
       "}\n",
       "\n",
       ".custom-list li:first {\n",
       "    margin: 50px;\n",
       "    text-wieght: bold;\n",
       "    list-style-type: none;\n",
       "}\n",
       "\n",
       ".custom-list b {\n",
       "    margin-left: 30px;\n",
       "}\n",
       "\n",
       ".sea-custom-list {\n",
       "    margin-left: 550px;\n",
       "    margin-top: 0px;\n",
       "    font-size: 10pt;\n",
       "}\n",
       "\n",
       ".sea-custom-list li {\n",
       "    margin: 10px;\n",
       "}\n",
       "\n",
       ".sea-custom-list li:first {\n",
       "    margin: 50px;\n",
       "    text-weight: bold;\n",
       "    list-style-type: none;\n",
       "}\n",
       "\n",
       ".chopper-custom-list {\n",
       "    margin-left: 250px;\n",
       "    margin-top: 0px;\n",
       "    font-size: 14pt;\n",
       "}\n",
       "\n",
       ".chopper-custom-list li {\n",
       "    margin: 50px;\n",
       "}\n",
       "\n",
       ".chopper-custom-list li:first {\n",
       "    margin: 50px;\n",
       "    text-wieght: bold;\n",
       "    list-style-type: none;\n",
       "}\n",
       "\n",
       ".chopper-custom-list b {\n",
       "    margin-left: 30px;\n",
       "}\n",
       "\n",
       "\n",
       ".storm-custom-list {\n",
       "    margin-left: 520px;\n",
       "    margin-top: 0px;\n",
       "    font-size: 12pt;\n",
       "}\n",
       "\n",
       ".storm-custom-list li {\n",
       "    margin: 30px;\n",
       "}\n",
       "\n",
       ".storm-custom-list li:first {\n",
       "    margin: 50px;\n",
       "    text-weight: bold;\n",
       "    list-style-type: none;\n",
       "}\n",
       "\n",
       ".storm-custom-list b {\n",
       "    margin-left: 30px;\n",
       "}\n",
       "</style>\n"
      ],
      "text/plain": [
       "<IPython.core.display.HTML object>"
      ]
     },
     "metadata": {},
     "output_type": "display_data"
    }
   ],
   "source": [
    "%%html\n",
    "<style>\n",
    "\n",
    ".custom-list {\n",
    "    margin-left: 285px;\n",
    "    font-size: 14pt;\n",
    "}\n",
    "\n",
    ".custom-list li {\n",
    "    margin: 50px;\n",
    "}\n",
    "\n",
    ".custom-list li:first {\n",
    "    margin: 50px;\n",
    "    text-wieght: bold;\n",
    "    list-style-type: none;\n",
    "}\n",
    "\n",
    ".custom-list b {\n",
    "    margin-left: 30px;\n",
    "}\n",
    "\n",
    ".sea-custom-list {\n",
    "    margin-left: 550px;\n",
    "    margin-top: 0px;\n",
    "    font-size: 10pt;\n",
    "}\n",
    "\n",
    ".sea-custom-list li {\n",
    "    margin: 10px;\n",
    "}\n",
    "\n",
    ".sea-custom-list li:first {\n",
    "    margin: 50px;\n",
    "    text-weight: bold;\n",
    "    list-style-type: none;\n",
    "}\n",
    "\n",
    ".chopper-custom-list {\n",
    "    margin-left: 250px;\n",
    "    margin-top: 0px;\n",
    "    font-size: 14pt;\n",
    "}\n",
    "\n",
    ".chopper-custom-list li {\n",
    "    margin: 50px;\n",
    "}\n",
    "\n",
    ".chopper-custom-list li:first {\n",
    "    margin: 50px;\n",
    "    text-wieght: bold;\n",
    "    list-style-type: none;\n",
    "}\n",
    "\n",
    ".chopper-custom-list b {\n",
    "    margin-left: 30px;\n",
    "}\n",
    "\n",
    "\n",
    ".storm-custom-list {\n",
    "    margin-left: 520px;\n",
    "    margin-top: 0px;\n",
    "    font-size: 12pt;\n",
    "}\n",
    "\n",
    ".storm-custom-list li {\n",
    "    margin: 30px;\n",
    "}\n",
    "\n",
    ".storm-custom-list li:first {\n",
    "    margin: 50px;\n",
    "    text-weight: bold;\n",
    "    list-style-type: none;\n",
    "}\n",
    "\n",
    ".storm-custom-list b {\n",
    "    margin-left: 30px;\n",
    "}\n",
    "</style>\n"
   ]
  },
  {
   "attachments": {},
   "cell_type": "markdown",
   "metadata": {},
   "source": [
    "<img src=\"images/usgs.png\" style=\" padding-top: 26px; float: left\"/>\n",
    "<img src=\"images/WaveLabLogo.png\" style=\"float: left\"/>"
   ]
  },
  {
   "attachments": {},
   "cell_type": "markdown",
   "metadata": {},
   "source": [
    "# Using the Interface"
   ]
  },
  {
   "attachments": {},
   "cell_type": "markdown",
   "metadata": {},
   "source": [
    "Double click WaveLab.exe, the program may take a minute or more to load.  You will then see the following screen: <br />\n",
    "\n",
    "<div style=\"padding-top: 25px\">\n",
    "<img src=\"images/master_gui.PNG\" style=\"float: left\" />\n",
    "    <ul class=\"custom-list\">\n",
    "        <b>GUIs Opened When Clicked</b>\n",
    "        <li>\"Sea GUI\": Open sea pressure data/metadata tool</li>\n",
    "        <li>\"Air GUI\": Open barometric pressure data/metadata tool</li>\n",
    "        <li>\"Chopper\": Open timeseries cropping tool</li>\n",
    "        <li>\"Storm GUI\": Open Storm-Tide Water Level and Wave Statistics Toolbox</li>\n",
    "    </ul>\n",
    "</div>"
   ]
  },
  {
   "attachments": {},
   "cell_type": "markdown",
   "metadata": {},
   "source": [
    "If you are starting from the beginning you should go through each of these toolboxes in order."
   ]
  },
  {
   "attachments": {},
   "cell_type": "markdown",
   "metadata": {},
   "source": [
    "## Sea GUI"
   ]
  },
  {
   "attachments": {},
   "cell_type": "markdown",
   "metadata": {},
   "source": [
    "This toolbox takes the extracted sea pressure data from the instrument and converts to netCDF format with the appropriate data and metadata.  You will see the following screen when you click \"Sea GUI\":"
   ]
  },
  {
   "attachments": {},
   "cell_type": "markdown",
   "metadata": {},
   "source": [
    "<img src=\"images/sea_air_begin.PNG\" style=\"float:left; border:2px solid black; border-bottom: 1px solid black\" />"
   ]
  },
  {
   "attachments": {},
   "cell_type": "markdown",
   "metadata": {},
   "source": [
    "- <b>Add File(s)</b>: adds one or more files to be processed (this would be the csv or similar data files extracted from the pressure instrument of choice)\n",
    "- <b>Save Globals</b>: Save the data from the three fields above to load for a future session\n",
    "- <b>Load Globals</b>: Load the saved globals\n",
    "- <b>Process Files</b>:  To process data after filling out all required information of added files \n",
    "- <b>Quit</b>: Quit Sea GUI\n"
   ]
  },
  {
   "attachments": {},
   "cell_type": "markdown",
   "metadata": {},
   "source": [
    "Enter the appropriate information in the fields.\n",
    "\n",
    "\n",
    "Click \"Add File(s)\". You will be prompted to upload a sea pressure data file. Please note the following:\n",
    "\n",
    "- File format must be CSV.\n",
    "- The file should contain the exported data from the sea pressure instrument.\n",
    "- Permitted instruments are listed in the next Sea GUI window, in the dropdown menu under \"Instrument\".\n",
    "- If you are using a different instrument than those listed, you may use the [Generic Data Template CSV file](documentation/data/Generic_Template.csv) and select the \"Generic\" instrument type.\n",
    "- WaveLab will detect the sampling rate based on the difference in time between the first two rows of data. WaveLab filtering will automatically adjust for the detected measurement sampling rate.\n",
    "\n",
    "After selecting a file, you will see the following window:"
   ]
  },
  {
   "attachments": {},
   "cell_type": "markdown",
   "metadata": {},
   "source": [
    "<span style=\"padding-top: 5px\">\n",
    "<img src=\"images/sea_gui.PNG\" style=\"margin-top: 17px; float: left; width: 550px; height: 550px; border: 2px solid black\" />\n",
    "    <ul class=\"sea-custom-list\" >\n",
    "        <b>Fields</b>\n",
    "        <li> \"Instrument\": Choose the respective instrument used from the drop down list</li>\n",
    "        <li>\"STN Site id\": Id of the site established in the Short Term Network</li>\n",
    "        <li>\"STN Instrument Id\": Id of the Instrument deployed in the Short Term Network</li>\n",
    "        <li>\"Latitude\": Latitude of Site</li>\n",
    "        <li>\"Longitude\": Longitude of Site</li>\n",
    "        <li>\"Time zone...\": Time zone data was collected in (to be converted to UTC)</li>\n",
    "        <li>\"Daylight Savings\": Whether the data is in Daylight Savings time</li>\n",
    "        <li>\"Datum\": Vertical Datum Of Data</li>\n",
    "        <li>\"Salinity\": Drop-down to specify salinity of water body</li>\n",
    "        <li>\"Initial land surface elevation\": Tape down to sea floor at deployment time</li>\n",
    "        <li>\"Final land surface elevation\": Tape down to sea floor at retrieval time</li>\n",
    "        <li>\"Sensor orifice elevation at deployment time\": Tape down to sensor at deployment time</li>\n",
    "        <li>\"Sensor orifice elevation at retrieval time\": Tape down to sensor at retrieval time</li>\n",
    "        <li>\"Deployment time\": Time of instrument deployment</li>\n",
    "        <li>\"Retrieval time\": Time of instrument retrieval</li>\n",
    "    </ul>\n",
    "</div>"
   ]
  },
  {
   "attachments": {},
   "cell_type": "markdown",
   "metadata": {},
   "source": [
    "- <b>Remove File</b>: Removes the file from the list\n",
    "- <b>Save entries</b>: Saves data entered for use in other windows or future sessions\n",
    "- <b>Load Entries</b>: Load saved entries\n",
    "\n",
    "After filling in all the fields click on \"Process Files\" to convert all added files to netCDF sea pressure files.  Files will be the original name with \".nc\" appended to the end."
   ]
  },
  {
   "attachments": {},
   "cell_type": "markdown",
   "metadata": {},
   "source": [
    "## Air GUI"
   ]
  },
  {
   "attachments": {},
   "cell_type": "markdown",
   "metadata": {},
   "source": [
    "\n",
    "This toolbox takes the extracted barometric pressure data from the instrument and converts to netCDF format with the appropriate data and metadata.  At first, you will see the same screen when you click on \"Sea GUI\".  Enter the appropriate information in the fields. \n",
    "\n",
    "\n",
    "Click \"Add File(s)\". You will be prompted to upload a barometric pressure data file. Please note the following:\n",
    "- File format must be CSV.\n",
    "- The file should contain the exported data from the barometric pressure instrument.\n",
    "- Permitted instruments are listed in the next Air GUI window, in the dropdown menu under \"Instrument\".\n",
    "- If you are using a different instrument than those listed, you may use the [Generic Data Template CSV file](documentation/data/Generic_Template.csv) and select the \"Generic\" instrument type.\n",
    "- WaveLab will detect the sampling rate based on the difference in time between the first two rows of data. WaveLab filtering will automatically adjust for the detected measurement sampling rate.\n",
    "\n",
    "After selecting a file, you will see the following window:\n"
   ]
  },
  {
   "attachments": {},
   "cell_type": "markdown",
   "metadata": {},
   "source": [
    "<span>\n",
    "<img src=\"images/air_gui.PNG\" style=\"margin-top: 5px; float: left; width: 550px; height: 400px; border: 2px solid black\" />\n",
    "    <ul class=\"sea-custom-list\" >\n",
    "        <b>Fields</b>\n",
    "        <li> \"Instrument\": Choose the respective instrument used from the drop down list</li>\n",
    "        <li>\"STN Site id\": Id of the site established in the Short Term Network</li>\n",
    "        <li>\"STN Instrument Id\": Id of the Instrument deployed in the Short Term Network</li>\n",
    "        <li>\"Latitude\": Latitude of Site</li>\n",
    "        <li>\"Longitude\": Longitude of Site</li>\n",
    "        <li>\"Time zone...\": Time zone data was collected in (to be converted to UTC)</li>\n",
    "        <li>\"Daylight Savings\": Whether the data is in Daylight Savings time</li>\n",
    "        <li>\"Datum\": Vertical Datum Of Data</li>\n",
    "        <li>\"Sensor orifice elevation at deployment time\": Tape down to sensor at deployment time</li>\n",
    "        <li>\"Sensor orifice elevation at retrieval time\": Tape down to sensor at retrieval time</li>\n",
    "    </ul>\n",
    "</span>"
   ]
  },
  {
   "attachments": {},
   "cell_type": "markdown",
   "metadata": {},
   "source": [
    "As with \"Sea GUI\", click on \"Process Files\" to convert all added files to barometric pressure netCDF files.  Files will be the original name with \".nc\" appended to the end."
   ]
  },
  {
   "attachments": {},
   "cell_type": "markdown",
   "metadata": {},
   "source": [
    "## Chopper"
   ]
  },
  {
   "attachments": {},
   "cell_type": "markdown",
   "metadata": {},
   "source": [
    "This tool box lets a user crop bad data out of the time series of either sea pressure or barometric pressure netCDF files created by \"Sea GUI\" and \"Air GUI\".  You will see the following screen when click on \"Chopper\":"
   ]
  },
  {
   "attachments": {},
   "cell_type": "markdown",
   "metadata": {},
   "source": [
    "<span>\n",
    "<img src=\"images/chopper_begin.PNG\" style=\"margin-top: 0px; float: left; width: 300px; height: 400px; border: 2px solid black\" />\n",
    "    <ul class=\"chopper-custom-list\" >\n",
    "        <b>Steps</b>\n",
    "        <li> Choose whether the file is a sea or air pressure netCDF file</li>\n",
    "        <li>Choose the time zone to display the dates</li>\n",
    "        <li>Select the file of interest</li>\n",
    "    </ul>\n",
    "</span>"
   ]
  },
  {
   "attachments": {},
   "cell_type": "markdown",
   "metadata": {},
   "source": [
    "After selecting the file you will see the following screen:"
   ]
  },
  {
   "attachments": {},
   "cell_type": "markdown",
   "metadata": {},
   "source": [
    "<img src=\"images/chopper.PNG\" style=\"margin-top: 5px; float: left; border: 2px solid black\" />\n",
    "   "
   ]
  },
  {
   "attachments": {},
   "cell_type": "markdown",
   "metadata": {},
   "source": [
    "- The yellow portion of the graph indicates the portion of the time series to be extracted.\n",
    "- To choose where to begin and end with your mouse, left-click the time step to begin the extraction, and right-click the timestep to end the extraction.\n",
    "- To choose where to begin and end with fields: enter the date-time in both \"Start Date\" and \"End Date\" under \"Define Period to Export\"\n",
    "- Finally click \"Export Selection\" to save the file."
   ]
  },
  {
   "attachments": {},
   "cell_type": "markdown",
   "metadata": {},
   "source": [
    "## Storm GUI"
   ]
  },
  {
   "attachments": {},
   "cell_type": "markdown",
   "metadata": {},
   "source": [
    "This toolbox takes the netCDF files from \"Sea GUI\" and \"Air GUI\", (or respective chopped time series from \"Chopper\"), and calculates unfiltered water level, Storm-Tide water level, and wave statistics.  You will see the following when \"Storm GUI\" is clicked:"
   ]
  },
  {
   "attachments": {},
   "cell_type": "markdown",
   "metadata": {},
   "source": [
    "<span style=\"padding-top: 5px\">\n",
    "<img src=\"images/storm_gui.PNG\" style=\"margin-top: 17px; float: left; width: 550px; height: 550px; border: 2px solid black\" />\n",
    "    <ul class=\"storm-custom-list\" >\n",
    "        <b>Steps</b>\n",
    "        <li>Add sea pressure and barometric pressure netCDF files to \"Water File\" and \"Air File\" respectively </li>\n",
    "        <li>Check the boxes the output files of interest.  <b style=\"margin-left: 0px\">Make sure to follow the Standard Operating Procedure when choosing what files to create.</b></li>\n",
    "        <li>Choose a time zone to display the times in</li>\n",
    "        <li>Optionally choose vlmiits for the barometric pressure and water level visualizations</li>\n",
    "        <li>Optionally choose a reference height of interest and depth of water above said reference height</li>\n",
    "        <li>Choose an output name and click \"Process files\"</li>\n",
    "    </ul>\n",
    "</span>"
   ]
  },
  {
   "attachments": {},
   "cell_type": "markdown",
   "metadata": {},
   "source": [
    "All files are going to use the output name and append a suffix to describe the file.  Consult the <a href=\"https://code.usgs.gov/wavelab/wavelab/-/blob/master/documentation/notebooks/output.md\">output</a> page to get a list of the suffixes and explanation of output."
   ]
  }
 ],
 "metadata": {
  "celltoolbar": "Tags",
  "kernelspec": {
   "display_name": "Python 3",
   "language": "python",
   "name": "python3"
  },
  "language_info": {
   "codemirror_mode": {
    "name": "ipython",
    "version": 3
   },
   "file_extension": ".py",
   "mimetype": "text/x-python",
   "name": "python",
   "nbconvert_exporter": "python",
   "pygments_lexer": "ipython3",
   "version": "3.7.5"
  }
 },
 "nbformat": 4,
 "nbformat_minor": 4
}
