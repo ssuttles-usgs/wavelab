{
 "cells": [
  {
   "cell_type": "markdown",
   "id": "f653231f",
   "metadata": {},
   "source": [
    "## Reading NetCDF Files\n",
    "\n",
    "WaveLab data can be exported as NetCDF files. This documentation describes how to read NetCDF files.\n",
    "\n",
    "### Panoply\n",
    "\n",
    "1. Visit this URL: https://www.giss.nasa.gov/tools/panoply/download/\n",
    "2. Click the download link that corresponds to your computer.\n",
    "3. After the .zip file downloads to your computer, unzip the file. \n",
    "4. Open the unzipped file and locate Panoply.exe.\n",
    "5. Double-click Panoply.exe.\n",
    "6. If you get an error related to Java Runtime Environment, you must download Amazon Corretto 16:\n",
    "     1. Visit this URL: https://docs.aws.amazon.com/corretto/latest/corretto-16-ug/downloads-list.html\n",
    "     2. Click the \"Download Link\" that corresponds to your computer. Most USGS users will select Windows x64: https://corretto.aws/downloads/latest/amazon-corretto-16-x64-windows-jdk.msi\n",
    "     3. After the file downloads to your computer, run the file to install.\n",
    "7. After Panoply has opened, open a NetCDF (.nc) file with one of these options:\n",
    "     - Panoply may prompt you to open a file. Select a file in the file explorer.\n",
    "     - Click File > Open.... Select a file in the file explorer.\n",
    "     - Drag a file onto the Panoply window.\n",
    "8. Note: you can add multiple files to view them all in the \"Datasets\" tab.\n",
    "9. Click a row on the table in the \"Datasets\" tab to view a variable:\n",
    "     - The metadata associated with the variable will be visible in the side panel.\n",
    "     - If the \"Type\" of the variable is \"—\", the value of the variable will also be visible in the side panel.\n",
    "     - If the \"Type\" of the variable is \"1D\", the value of the variable will not be visible in the side panel. To view the values:\n",
    "          - Create a plot:\n",
    "               1. Right-click the variable and click \"Create Plot...\" \n",
    "               2. Select another variable to use for the horizontal or vertical axis. Usually, you will want to use \"time\" for the \"horiztonal\" axis.\n",
    "               3. A plot will become visible in the \"Plot\" tab in a new window.\n",
    "               4. Click the \"Array 1\" tab to view a table of the data series. \n",
    "               5. On the \"Array 1\" tab, click the \"Val\" column header and Ctrl + C to copy the data series. You can then paste the data into an Excel workbook or other software.\n",
    "          - Export as CSV:\n",
    "               1. Right-click the variable and click \"Export CSV...\"\n",
    "               2. Save the CSV file to your computer. \n",
    "               3. Open the CSV file in Excel.\n",
    "               4. Select the data and copy it.\n",
    "               5. Right-click in a cell and click the Transpose Paste button. \n",
    "               6. The data should now appear in a vertical column. \n",
    "               7. You can only export one variable at a time, so you will likely need to repeat this process for other variables and combine the columns into one Excel seet.\n",
    "               8. Time values are represented as milliseconds since 1970-01-01 00:00:00. To convert time values to readable dates, use this formula `= (MsValueCellReference / 86400000) + DATE(1970,1,1)` and Format Cell as a Date format.\n",
    "     - Please note that metadata associated with a variable will not be exported from the NetCDF file if you export the variable as a CSV.\n",
    "\n",
    "### Programming languages\n",
    "\n",
    "- R users: Use the [ncdf4 package](https://cran.r-project.org/web/packages/ncdf4/index.html)\n",
    "- Python users: Use the [netCDF4 package](https://unidata.github.io/netcdf4-python/)"
   ]
  },
  {
   "cell_type": "code",
   "execution_count": null,
   "id": "8b4a4612",
   "metadata": {},
   "outputs": [],
   "source": []
  }
 ],
 "metadata": {
  "kernelspec": {
   "display_name": "Python 3 (ipykernel)",
   "language": "python",
   "name": "python3"
  },
  "language_info": {
   "codemirror_mode": {
    "name": "ipython",
    "version": 3
   },
   "file_extension": ".py",
   "mimetype": "text/x-python",
   "name": "python",
   "nbconvert_exporter": "python",
   "pygments_lexer": "ipython3",
   "version": "3.7.0"
  }
 },
 "nbformat": 4,
 "nbformat_minor": 5
}
