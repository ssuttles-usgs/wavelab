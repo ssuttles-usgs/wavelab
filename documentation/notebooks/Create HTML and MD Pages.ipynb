{
 "cells": [
  {
   "cell_type": "code",
   "execution_count": 34,
   "metadata": {},
   "outputs": [],
   "source": [
    "from traitlets.config import Config\n",
    "import nbformat as nbf\n",
    "from nbconvert.exporters import HTMLExporter, MarkdownExporter\n",
    "from nbconvert.preprocessors import TagRemovePreprocessor\n",
    "import re"
   ]
  },
  {
   "cell_type": "markdown",
   "metadata": {},
   "source": [
    "## Set Up Tags For Different Formats"
   ]
  },
  {
   "cell_type": "code",
   "execution_count": 2,
   "metadata": {},
   "outputs": [],
   "source": [
    "c = Config()\n",
    "\n",
    "# Configure our tag removal\n",
    "c.TagRemovePreprocessor.enabled=True\n",
    "c.TagRemovePreprocessor.remove_cell_tags = (\"remove_cell\",)\n",
    "c.TagRemovePreprocessor.remove_all_outputs_tags = ('remove_output',)\n",
    "c.TagRemovePreprocessor.remove_input_tags = ('remove_input',)\n",
    "\n",
    "c2 = Config()\n",
    "\n",
    "# Configure our tag removal\n",
    "c2.TagRemovePreprocessor.enabled=True\n",
    "c2.TagRemovePreprocessor.remove_cell_tags = (\"remove_cell\", \"remove_markdown\",)\n",
    "c2.TagRemovePreprocessor.remove_all_outputs_tags = ('remove_output',)\n",
    "c2.TagRemovePreprocessor.remove_input_tags = ('remove_input',)\n",
    "\n",
    "# Configure and run out exporter\n",
    "c.HTMLExporter.preprocessors = [\"TagRemovePreprocessor\"]\n",
    "c2.MarkdownExporter.preprocessors = [\"TagRemovePreprocessor\"]"
   ]
  },
  {
   "cell_type": "code",
   "execution_count": 3,
   "metadata": {},
   "outputs": [],
   "source": [
    "#File list\n",
    "\n",
    "list_of_files = {\n",
    "    'index.ipynb': 'index',\n",
    "    'gui-interface.ipynb': 'gui',\n",
    "    'output.ipynb': 'output',\n",
    "    'terms.ipynb': 'terms',\n",
    "    'wave-stats.ipynb': 'wave-stats',\n",
    "    'storm-tide.ipynb': 'storm-tide'\n",
    "}"
   ]
  },
  {
   "cell_type": "markdown",
   "metadata": {},
   "source": [
    "## Gitlab Markdown Creation"
   ]
  },
  {
   "cell_type": "code",
   "execution_count": 4,
   "metadata": {},
   "outputs": [],
   "source": [
    "exporter_md = MarkdownExporter()\n",
    "exporter_md.register_preprocessor(TagRemovePreprocessor(config=c2),True)\n",
    "\n",
    "# replace on exporter is for gitlab mathjax rendering\n",
    "for key, val in list_of_files.items():\n",
    "    if val == 'wave-stats':\n",
    "        with open(val + '.md', 'w', encoding='utf-8') as file:\n",
    "            file.write(exporter_md.from_filename(key)[0].replace('\\hphantom{`}', '`'))\n",
    "    else:\n",
    "        with open(val + '.md', 'w') as file:\n",
    "            file.write(exporter_md.from_filename(key)[0].replace('\\hphantom{`}', '`'))\n",
    "            "
   ]
  },
  {
   "cell_type": "markdown",
   "metadata": {},
   "source": [
    "## HTML Pages"
   ]
  },
  {
   "cell_type": "code",
   "execution_count": 76,
   "metadata": {},
   "outputs": [],
   "source": [
    "exporter_html = HTMLExporter()\n",
    "exporter_html.register_preprocessor(TagRemovePreprocessor(config=c),True)\n",
    "\n",
    "replace_urls = {'https://code.usgs.gov/wavelab/wavelab/-/blob/master/documentation/notebooks/gui.md': 'gui.html',\n",
    "                'https://code.usgs.gov/wavelab/wavelab/-/blob/master/documentation/notebooks/output.md': 'output.html',\n",
    "                'https://code.usgs.gov/wavelab/wavelab/-/blob/master/documentation/notebooks/terms.md': 'terms.html',\n",
    "                'https://code.usgs.gov/wavelab/wavelab/-/blob/master/documentation/notebooks/storm-tide.md': 'storm-tide.html',\n",
    "                'https://code.usgs.gov/wavelab/wavelab/-/blob/master/documentation/notebooks/wave-stats.md': 'wave-stats.html'}\n",
    "\n",
    "def url_fix(convert_string):\n",
    "    for key, val in replace_urls.items():\n",
    "        convert_string = convert_string.replace(key, val)\n",
    "    return convert_string\n",
    "\n",
    "def codec_fix(html_input):\n",
    "    bad_unicode = ['\\ue63e', '\\ue6c6', '\\ue6f9', '\\ue6fa', '\\ue6f8', '\\ue6f7', '\\ue67c', '\\ue6d2', '\\ue74b', '\\ue603', '\\ue605', '\\ue602']\n",
    "    for b in bad_unicode:\n",
    "        html_input = html_input.replace(b, '')\n",
    "        \n",
    "    return html_input\n",
    "\n",
    "# Needs a fix\n",
    "# # replace on exporter is for gitlab mathjax rendering\n",
    "# for key, val in list_of_files.items():\n",
    "#     if val == 'wave-stats':\n",
    "#         with open(val + '.html', 'w', encoding='utf-8') as file:\n",
    "#             print(val)\n",
    "#             file.write(url_fix(exporter_html.from_filename(key)[0].replace('\\hphantom{`}', '')))\n",
    "#     else:\n",
    "#         with open(val + '.html', 'w') as file:\n",
    "#             print(val)\n",
    "#             file.write(codec_fix(url_fix(exporter_html.from_filename(key)[0].replace('\\hphantom{`}', ''))))"
   ]
  }
 ],
 "metadata": {
  "kernelspec": {
   "display_name": "Python 3 (ipykernel)",
   "language": "python",
   "name": "python3"
  },
  "language_info": {
   "codemirror_mode": {
    "name": "ipython",
    "version": 3
   },
   "file_extension": ".py",
   "mimetype": "text/x-python",
   "name": "python",
   "nbconvert_exporter": "python",
   "pygments_lexer": "ipython3",
   "version": "3.7.11"
  }
 },
 "nbformat": 4,
 "nbformat_minor": 4
}
