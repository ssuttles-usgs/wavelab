{
 "cells": [
  {
   "cell_type": "code",
   "execution_count": 51,
   "metadata": {},
   "outputs": [],
   "source": [
    "from traitlets.config import Config\n",
    "import nbformat as nbf\n",
    "from nbconvert.exporters import HTMLExporter, MarkdownExporter\n",
    "from nbconvert.preprocessors import TagRemovePreprocessor\n"
   ]
  },
  {
   "cell_type": "markdown",
   "metadata": {},
   "source": [
    "## Set Up Tags For Different Formats"
   ]
  },
  {
   "cell_type": "code",
   "execution_count": 52,
   "metadata": {},
   "outputs": [],
   "source": [
    "c = Config()\n",
    "\n",
    "# Configure our tag removal\n",
    "c.TagRemovePreprocessor.enabled=True\n",
    "c.TagRemovePreprocessor.remove_cell_tags = (\"remove_cell\",)\n",
    "c.TagRemovePreprocessor.remove_all_outputs_tags = ('remove_output',)\n",
    "c.TagRemovePreprocessor.remove_input_tags = ('remove_input',)\n",
    "\n",
    "c2 = Config()\n",
    "\n",
    "# Configure our tag removal\n",
    "c2.TagRemovePreprocessor.enabled=True\n",
    "c2.TagRemovePreprocessor.remove_cell_tags = (\"remove_cell\", \"remove_markdown\",)\n",
    "c2.TagRemovePreprocessor.remove_all_outputs_tags = ('remove_output',)\n",
    "c2.TagRemovePreprocessor.remove_input_tags = ('remove_input',)\n",
    "\n",
    "# Configure and run out exporter\n",
    "c.HTMLExporter.preprocessors = [\"TagRemovePreprocessor\"]\n",
    "c2.MarkdownExporter.preprocessors = [\"TagRemovePreprocessor\"]"
   ]
  },
  {
   "cell_type": "code",
   "execution_count": 53,
   "metadata": {},
   "outputs": [],
   "source": [
    "#File list\n",
    "\n",
    "list_of_files = {\n",
    "    'index.ipynb': 'index',\n",
    "    'gui-interface.ipynb': 'gui',\n",
    "    'output.ipynb': 'output',\n",
    "    'terms.ipynb': 'terms',\n",
    "    'wave-stats.ipynb': 'wave-stats',\n",
    "    'storm-tide.ipynb': 'storm-tide'\n",
    "}"
   ]
  },
  {
   "cell_type": "markdown",
   "metadata": {},
   "source": [
    "## Gitlab Markdown Creation"
   ]
  },
  {
   "cell_type": "code",
   "execution_count": 54,
   "metadata": {},
   "outputs": [],
   "source": [
    "exporter_md = MarkdownExporter()\n",
    "exporter_md.register_preprocessor(TagRemovePreprocessor(config=c2),True)\n",
    "\n",
    "# replace on exporter is for gitlab mathjax rendering\n",
    "for key, val in list_of_files.items():\n",
    "    if val == 'wave-stats':\n",
    "        with open(val + '.md', 'w', encoding='utf-8') as file:\n",
    "            file.write(exporter_md.from_filename(key)[0].replace('\\hphantom{`}', '`'))\n",
    "    else:\n",
    "        with open(val + '.md', 'w') as file:\n",
    "            file.write(exporter_md.from_filename(key)[0].replace('\\hphantom{`}', '`'))\n",
    "            "
   ]
  },
  {
   "cell_type": "markdown",
   "metadata": {},
   "source": [
    "## HTML Pages"
   ]
  },
  {
   "cell_type": "code",
   "execution_count": 55,
   "metadata": {},
   "outputs": [],
   "source": [
    "exporter_html = HTMLExporter()\n",
    "exporter_html.register_preprocessor(TagRemovePreprocessor(config=c2),True)\n",
    "\n",
    "# replace on exporter is for gitlab mathjax rendering\n",
    "for key, val in list_of_files.items():\n",
    "    if val == 'wave-stats':\n",
    "        with open(val + '.html', 'w', encoding='utf-8') as file:\n",
    "            file.write(exporter_html.from_filename(key)[0].replace('\\hphantom{`}', ''))\n",
    "    else:\n",
    "        with open(val + '.html', 'w') as file:\n",
    "            file.write(exporter_html.from_filename(key)[0].replace('\\hphantom{`}', ''))"
   ]
  }
 ],
 "metadata": {
  "kernelspec": {
   "display_name": "Python 3",
   "language": "python",
   "name": "python3"
  },
  "language_info": {
   "codemirror_mode": {
    "name": "ipython",
    "version": 3
   },
   "file_extension": ".py",
   "mimetype": "text/x-python",
   "name": "python",
   "nbconvert_exporter": "python",
   "pygments_lexer": "ipython3",
   "version": "3.7.5"
  }
 },
 "nbformat": 4,
 "nbformat_minor": 4
}
