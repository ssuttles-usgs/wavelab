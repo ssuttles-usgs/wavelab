{
 "cells": [
  {
   "cell_type": "markdown",
   "metadata": {},
   "source": [
    "<img src=\"./images/usgs.png\" style=\" padding-top: 26px; float: left\"/>\n",
    "<img src=\"./images/WaveLabLogo.png\" style=\"float: left\"/>"
   ]
  },
  {
   "cell_type": "markdown",
   "metadata": {},
   "source": [
    "## Quick Terminology"
   ]
  },
  {
   "cell_type": "markdown",
   "metadata": {},
   "source": [
    "- <b>Unfiltered Water Level</b>: Water Level calculated using the Hydrostatic Method with no filter applied.\n",
    "- <b>Storm-Tide (Low-pass Filtered) Water Level</b>: Water Level calculated using the Hydrostatic Method with a Low-pass 4th Order Butterworth Filter applied to 1 minute frequencies and higher.\n",
    "- <b>Average Zero Up-crossing Period</b>: Second spectral moment statistic measuring the mean wave period on the sea surface (length of average wave period that crosses the mean sea surface).\n",
    "- <b>Significant Wave Height</b>: Spectral moment statistic referring to the wave height of the top third highest waves \n",
    "- <b>Power Spectral Density</b>: Sea surface wave variance spectral density is the variance of wave amplitude within a range of wave frequency\n",
    "- <b>Spectral Moment</b>: A parameter for spectral energy integration in order to generate wave statistics"
   ]
  }
 ],
 "metadata": {
  "kernelspec": {
   "display_name": "Python 3",
   "language": "python",
   "name": "python3"
  },
  "language_info": {
   "codemirror_mode": {
    "name": "ipython",
    "version": 3
   },
   "file_extension": ".py",
   "mimetype": "text/x-python",
   "name": "python",
   "nbconvert_exporter": "python",
   "pygments_lexer": "ipython3",
   "version": "3.7.9"
  }
 },
 "nbformat": 4,
 "nbformat_minor": 4
}
